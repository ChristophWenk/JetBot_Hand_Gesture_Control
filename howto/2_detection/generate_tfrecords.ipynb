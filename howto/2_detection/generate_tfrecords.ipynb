{
 "cells": [
  {
   "cell_type": "markdown",
   "source": [
    "# Object Detection API TFRecord Generation\n",
    "\n",
    "This notebook generates TFRecords, that are needed to use custom datasets with the TensorFlow Object Detection API.\n",
    "These TFRecords can then be used to configure the training and the validation of the gesture detection model.\n",
    "The documentation can be found on the official [TensorFlow Object Detection API Respository](https://github.com/tensorflow/models/blob/master/research/object_detection/g3doc/using_your_own_dataset.md#conversion-script-outline).\n",
    "\n",
    "The [TFRecord generation notebook by Dat Tran](https://github.com/datitran/raccoon_dataset/blob/master/generate_tfrecord.py) for his Raccoon Dataset proved to be a valuable resource.\n",
    "It provides an implementation of the TFRecord format that fits the goal of this notebook very well. \n",
    "\n",
    "Some lines of code like paths have to be adjusted for your case. All needed adjustments are marked with \"Todo\"."
   ],
   "metadata": {
    "collapsed": false,
    "pycharm": {
     "name": "#%% md\n"
    }
   }
  },
  {
   "cell_type": "code",
   "execution_count": null,
   "metadata": {},
   "outputs": [],
   "source": [
    "from __future__ import division\n",
    "from __future__ import print_function\n",
    "from __future__ import absolute_import\n",
    "\n",
    "import os\n",
    "import io\n",
    "import pandas as pd\n",
    "import tensorflow as tf\n",
    "\n",
    "from PIL import Image\n",
    "from object_detection.utils import dataset_util\n",
    "from collections import namedtuple"
   ]
  },
  {
   "cell_type": "markdown",
   "source": [
    "## Helper methods"
   ],
   "metadata": {
    "collapsed": false
   }
  },
  {
   "cell_type": "code",
   "execution_count": null,
   "metadata": {},
   "outputs": [],
   "source": [
    "def split(df, group):\n",
    "    \"\"\" Groups same image names together.\n",
    "    One image can contain multiple hands. With this method those hands are grouped together \n",
    "    and attached to one image object.\n",
    "    \"\"\"\n",
    "    data = namedtuple('data', ['filename', 'object'])\n",
    "    gb = df.groupby(group)\n",
    "    return [data(filename, gb.get_group(x)) for filename, x in zip(gb.groups.keys(), gb.groups)]"
   ]
  },
  {
   "cell_type": "markdown",
   "source": [
    "## Main method for TFRecord creation"
   ],
   "metadata": {
    "collapsed": false
   }
  },
  {
   "cell_type": "code",
   "source": [
    "def create_tf_example(group, path):\n",
    "    \"\"\" Create the TFRecord.\n",
    "    This method creates the TFRecord according to the input data. It specifies how the data looks like.\n",
    "    \"\"\"\n",
    "    with tf.gfile.GFile(os.path.join(path, '{}'.format(group.filename)), 'rb') as fid:\n",
    "        encoded_jpg = fid.read()\n",
    "    encoded_jpg_io = io.BytesIO(encoded_jpg)\n",
    "    image = Image.open(encoded_jpg_io)\n",
    "    width, height = image.size\n",
    "\n",
    "    filename = group.filename.encode('utf8')\n",
    "    # Todo: Change file format if needed. Alternative: b'png'\n",
    "    image_format = b'jpg'\n",
    "    xmins = []\n",
    "    xmaxs = []\n",
    "    ymins = []\n",
    "    ymaxs = []\n",
    "    classes_text = []\n",
    "    classes = []\n",
    "\n",
    "    for index, row in group.object.iterrows():\n",
    "        xmins.append(row['xmin'] / width)\n",
    "        xmaxs.append(row['xmax'] / width)\n",
    "        ymins.append(row['ymin'] / height)\n",
    "        ymaxs.append(row['ymax'] / height)\n",
    "        # Todo: Map class to label\n",
    "        # Should you need multiple labels a dedicated label mapping file can be used.\n",
    "        # See https://github.com/tensorflow/models/blob/master/research/object_detection/object_detection_tutorial.ipynb\n",
    "        classes_text.append('hand'.encode('utf8'))\n",
    "        classes.append(1)\n",
    "\n",
    "    tf_example = tf.train.Example(features=tf.train.Features(feature={\n",
    "        'image/height': dataset_util.int64_feature(height),\n",
    "        'image/width': dataset_util.int64_feature(width),\n",
    "        'image/filename': dataset_util.bytes_feature(filename),\n",
    "        'image/source_id': dataset_util.bytes_feature(filename),\n",
    "        'image/encoded': dataset_util.bytes_feature(encoded_jpg),\n",
    "        'image/format': dataset_util.bytes_feature(image_format),\n",
    "        'image/object/bbox/xmin': dataset_util.float_list_feature(xmins),\n",
    "        'image/object/bbox/xmax': dataset_util.float_list_feature(xmaxs),\n",
    "        'image/object/bbox/ymin': dataset_util.float_list_feature(ymins),\n",
    "        'image/object/bbox/ymax': dataset_util.float_list_feature(ymaxs),\n",
    "        'image/object/class/text': dataset_util.bytes_list_feature(classes_text),\n",
    "        'image/object/class/label': dataset_util.int64_list_feature(classes),\n",
    "    }))\n",
    "    return tf_example"
   ],
   "metadata": {
    "collapsed": false,
    "pycharm": {
     "name": "#%%\n"
    }
   },
   "execution_count": null,
   "outputs": []
  },
  {
   "cell_type": "markdown",
   "source": [
    "## TFRecord writer methods\n",
    "After executing the data preprocessing script all files can be found under your defined folder name.\n",
    "A folder will be generated with the following structure:\n",
    "\n",
    "<pre>\n",
    "ego_lared_tiny/  \n",
    "├── images/  \n",
    "│   ├── aishwaryfist000000109.jpg  \n",
    "│   ├── aishwaryfist000000611.jpg\n",
    "│   ├── aishwaryfist000000782.jpg\n",
    "│   ├── ...\n",
    "│   ├── aishwaryfist000001356.jpg\n",
    "│   └── ... \n",
    "├── train/  \n",
    "│   ├── aishwaryfist000000109.jpg  \n",
    "│   ├── aishwaryfist000000782.jpg\n",
    "│   └── ...  \n",
    "├── val/\n",
    "│   ├── aishwaryfist000000611.jpg  \n",
    "│   ├── aishwaryfist000001356.jpg\n",
    "│   └── ...  \n",
    "├── labels_all.csv\n",
    "├── labels_train.csv\n",
    "└── labels_val.csv\n",
    "</pre>\n",
    "\n",
    "Please have a look at the following cells to see how these folders have to placed inside your detection_training/ folder."
   ],
   "metadata": {
    "collapsed": false
   }
  },
  {
   "cell_type": "code",
   "execution_count": null,
   "outputs": [],
   "source": [
    "# Write training TFRecord\n",
    "# Todo: Change file paths\n",
    "writer = tf.python_io.TFRecordWriter(\"/home/jetbot/Documents/detection_training/train.record\")\n",
    "path = \"/home/jetbot/Documents/detection_training/images_train/\" # Path to training images\n",
    "examples = pd.read_csv(\"/home/jetbot/Documents/detection_training/labels_train.csv\") # Path to training labels\n",
    "grouped = split(examples, 'frame')\n",
    "for group in grouped:\n",
    "    tf_example = create_tf_example(group, path)\n",
    "    writer.write(tf_example.SerializeToString())\n",
    "\n",
    "writer.close()\n",
    "print(\"done\")"
   ],
   "metadata": {
    "collapsed": false,
    "pycharm": {
     "name": "#%%\n"
    }
   }
  },
  {
   "cell_type": "code",
   "execution_count": null,
   "metadata": {
    "pycharm": {
     "name": "#%%\n"
    }
   },
   "outputs": [],
   "source": [
    "# Write validation TFRecord\n",
    "# Todo: Change file paths\n",
    "writer = tf.python_io.TFRecordWriter(\"/home/jetbot/Documents/detection_training/val.record\")\n",
    "path = \"/home/jetbot/Documents/detection_training/images_val/\" # Path to validation images\n",
    "examples = pd.read_csv(\"/home/jetbot/Documents/detection_training/labels_val.csv\") # Path to validation labels\n",
    "grouped = split(examples, 'frame')\n",
    "for group in grouped:\n",
    "    tf_example = create_tf_example(group, path)\n",
    "    writer.write(tf_example.SerializeToString())\n",
    "\n",
    "writer.close()\n",
    "print(\"done\")"
   ]
  },
  {
   "cell_type": "markdown",
   "source": [
    "## Output TFRecords to console for verification\n",
    "\n",
    "Outputting the records to the console allows manual verification of their correctness. "
   ],
   "metadata": {
    "collapsed": false
   }
  },
  {
   "cell_type": "code",
   "execution_count": null,
   "outputs": [],
   "source": [
    "# Write training record to console\n",
    "# Todo: Change file path\n",
    "i = 1\n",
    "for example in tf.python_io.tf_record_iterator(\"/home/jetbot/Documents/detection_training/train.record\"):\n",
    "    example = tf.train.Example.FromString(example)\n",
    "    print(example)\n",
    "    \n",
    "    if i % 3 == 0:\n",
    "        break\n",
    "    i = i + 1\n",
    "    "
   ],
   "metadata": {
    "collapsed": false,
    "pycharm": {
     "name": "#%%\n"
    }
   }
  },
  {
   "cell_type": "code",
   "execution_count": null,
   "outputs": [],
   "source": [
    "# Write validation record to console\n",
    "# Todo: Change file path\n",
    "i = 1\n",
    "for example in tf.python_io.tf_record_iterator(\"/home/jetbot/Documents/detection_training/val.record\"):\n",
    "    example = tf.train.Example.FromString(example)\n",
    "    print(example)\n",
    "    \n",
    "    if i % 3 == 0:\n",
    "        break\n",
    "    i = i + 1"
   ],
   "metadata": {
    "collapsed": false,
    "pycharm": {
     "name": "#%%\n"
    }
   }
  }
 ],
 "metadata": {
  "kernelspec": {
   "display_name": "Python 3",
   "language": "python",
   "name": "python3"
  },
  "language_info": {
   "codemirror_mode": {
    "name": "ipython",
    "version": 3
   },
   "file_extension": ".py",
   "mimetype": "text/x-python",
   "name": "python",
   "nbconvert_exporter": "python",
   "pygments_lexer": "ipython3",
   "version": "3.6.10"
  },
  "pycharm": {
   "stem_cell": {
    "cell_type": "raw",
    "source": [],
    "metadata": {
     "collapsed": false
    }
   }
  }
 },
 "nbformat": 4,
 "nbformat_minor": 2
}